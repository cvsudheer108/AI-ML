{
 "cells": [
  {
   "cell_type": "markdown",
   "metadata": {},
   "source": [
    "## Debug\n",
    "pdb library helps to debug the program by setting explicit break points.\n",
    "The following are main debug commands. <br/>\n",
    "C - continue.<br/>\n",
    "q - quit.<br/>\n",
    "h - help, list all debug commands available.<br/>\n",
    "p [variable name] - print.<br/>\n",
    "p local() - print all locals.<br/>\n",
    "p globals() - Print all globals.<br/>\n"
   ]
  },
  {
   "cell_type": "code",
   "execution_count": 2,
   "metadata": {},
   "outputs": [
    {
     "name": "stdout",
     "output_type": "stream",
     "text": [
      "> <ipython-input-2-f56404edb416>(6)print_seq()\n",
      "-> print(num)\n",
      "(Pdb) c\n",
      "0\n",
      "> <ipython-input-2-f56404edb416>(5)print_seq()\n",
      "-> pdb.set_trace()\n",
      "(Pdb) c\n",
      "1\n",
      "> <ipython-input-2-f56404edb416>(6)print_seq()\n",
      "-> print(num)\n",
      "(Pdb) c\n",
      "2\n",
      "> <ipython-input-2-f56404edb416>(5)print_seq()\n",
      "-> pdb.set_trace()\n",
      "(Pdb) c\n",
      "3\n",
      "> <ipython-input-2-f56404edb416>(6)print_seq()\n",
      "-> print(num)\n",
      "(Pdb) c\n",
      "4\n",
      "> <ipython-input-2-f56404edb416>(5)print_seq()\n",
      "-> pdb.set_trace()\n",
      "(Pdb) c\n",
      "5\n",
      "> <ipython-input-2-f56404edb416>(6)print_seq()\n",
      "-> print(num)\n",
      "(Pdb) c\n",
      "6\n"
     ]
    }
   ],
   "source": [
    "import pdb\n",
    "\n",
    "def print_seq(n):\n",
    "    for num in range(n):\n",
    "        pdb.set_trace()\n",
    "        print(num)\n",
    "\n",
    "print_seq(7)\n"
   ]
  },
  {
   "cell_type": "code",
   "execution_count": null,
   "metadata": {},
   "outputs": [],
   "source": []
  },
  {
   "cell_type": "code",
   "execution_count": null,
   "metadata": {},
   "outputs": [],
   "source": []
  },
  {
   "cell_type": "code",
   "execution_count": null,
   "metadata": {},
   "outputs": [],
   "source": []
  },
  {
   "cell_type": "code",
   "execution_count": null,
   "metadata": {},
   "outputs": [],
   "source": []
  },
  {
   "cell_type": "code",
   "execution_count": null,
   "metadata": {},
   "outputs": [],
   "source": []
  },
  {
   "cell_type": "code",
   "execution_count": null,
   "metadata": {},
   "outputs": [],
   "source": []
  },
  {
   "cell_type": "code",
   "execution_count": null,
   "metadata": {},
   "outputs": [],
   "source": []
  }
 ],
 "metadata": {
  "kernelspec": {
   "display_name": "Python 3",
   "language": "python",
   "name": "python3"
  },
  "language_info": {
   "codemirror_mode": {
    "name": "ipython",
    "version": 3
   },
   "file_extension": ".py",
   "mimetype": "text/x-python",
   "name": "python",
   "nbconvert_exporter": "python",
   "pygments_lexer": "ipython3",
   "version": "3.7.1"
  }
 },
 "nbformat": 4,
 "nbformat_minor": 2
}
